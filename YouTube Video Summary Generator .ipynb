{
 "cells": [
  {
   "cell_type": "code",
   "execution_count": 32,
   "id": "9107e348-204f-4f38-b685-acc33ef55f4f",
   "metadata": {},
   "outputs": [],
   "source": [
    "from youtube_transcript_api import YouTubeTranscriptApi\n",
    "from langchain_core.runnables import RunnableLambda\n",
    "from langchain_ollama import OllamaLLM\n",
    "from langchain.prompts import ChatPromptTemplate\n",
    "from langchain_core.output_parsers import StrOutputParser"
   ]
  },
  {
   "cell_type": "code",
   "execution_count": 37,
   "id": "a33ac557-5d67-40d8-a9bb-e020c397b8d6",
   "metadata": {},
   "outputs": [],
   "source": [
    "def get_youtube_transcript(video_id):\n",
    "    try:\n",
    "        transcript = YouTubeTranscriptApi.get_transcript(video_id)\n",
    "        full_text = \" \".join([entry['text'] for entry in transcript])\n",
    "        return full_text\n",
    "    except Exception as e:\n",
    "        return f\"Error getting transcript: {e}\""
   ]
  },
  {
   "cell_type": "code",
   "execution_count": 38,
   "id": "3a1e6058-efb6-489a-8844-f7242d40ec32",
   "metadata": {},
   "outputs": [],
   "source": [
    "system_prompt = \"\"\"\n",
    "You are an expert at summarization. When you are given a transcript, you turn it into a high quality summary.\"\"\"\n",
    "\n",
    "user_prompt = \"\"\"\n",
    "Summarize the following transcript: \\n\n",
    "{transcript}\n",
    "\"\"\"\n",
    "\n",
    "prompt = ChatPromptTemplate.from_messages(\n",
    "    [\n",
    "        (\"system\", system_prompt),\n",
    "        (\"human\", user_prompt)\n",
    "    ]\n",
    ")"
   ]
  },
  {
   "cell_type": "code",
   "execution_count": 39,
   "id": "8b5453d9-76b5-4f05-adbc-fd3d5223ab64",
   "metadata": {},
   "outputs": [],
   "source": [
    "llm = OllamaLLM(model=\"llama3.2\")\n",
    "\n",
    "chain = RunnableLambda(get_youtube_transcript) | prompt | llm | StrOutputParser()"
   ]
  },
  {
   "cell_type": "code",
   "execution_count": 40,
   "id": "5e97706d-a826-43d7-9132-e400b8af3732",
   "metadata": {},
   "outputs": [
    {
     "name": "stdout",
     "output_type": "stream",
     "text": [
      "Here's a high-quality summary of the transcript:\n",
      "\n",
      "The speaker discusses the concept of artificial intelligence (AI), machine learning, and deep learning, and how they relate to each other. AI aims to simulate human intelligence by learning, inferencing, and reasoning. Machine learning is a subset of AI that enables computers to learn from data without being explicitly programmed. Deep learning is another aspect of machine learning that uses neural networks to mimic the human brain's structure.\n",
      "\n",
      "The speaker introduces the concept of \"foundation models,\" which are large language models that can generate new content, such as text or speech. These models have become incredibly powerful and popular in recent years, revolutionizing the adoption curve for AI. Foundation models are capable of generating entire documents, paragraphs, or even sentences based on patterns they've learned from existing data.\n",
      "\n",
      "The speaker notes that while some argue that generative AI is not truly \"generating\" new content but rather recombining existing information, this analogy holds some truth. Just as music is built upon previously invented notes, generative AI builds upon existing knowledge to create something new. However, the difference lies in the level of complexity and nuance these models can achieve.\n",
      "\n",
      "The speaker also mentions the applications of generative AI, including deep fakes (recreated audio or video), chatbots, and other forms of content generation. While these technologies hold great promise, they also pose risks when misused, such as spreading misinformation or abusing individuals' voices.\n",
      "\n",
      "Ultimately, understanding how AI has evolved from machine learning to foundation models is crucial for harnessing its benefits while mitigating potential risks. The speaker concludes by encouraging viewers to like, subscribe, and engage with the content if they have questions or thoughts about this topic."
     ]
    }
   ],
   "source": [
    "for s in chain.stream(\"qYNweeDHiyU\"):\n",
    "    print(s, end=\"\", flush=True)"
   ]
  }
 ],
 "metadata": {
  "kernelspec": {
   "display_name": "Python 3 (ipykernel)",
   "language": "python",
   "name": "python3"
  },
  "language_info": {
   "codemirror_mode": {
    "name": "ipython",
    "version": 3
   },
   "file_extension": ".py",
   "mimetype": "text/x-python",
   "name": "python",
   "nbconvert_exporter": "python",
   "pygments_lexer": "ipython3",
   "version": "3.12.5"
  }
 },
 "nbformat": 4,
 "nbformat_minor": 5
}
