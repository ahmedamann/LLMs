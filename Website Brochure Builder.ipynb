{
 "cells": [
  {
   "cell_type": "code",
   "execution_count": 174,
   "id": "381f1607-2059-44c3-b2f1-3a7f9b71ab53",
   "metadata": {},
   "outputs": [],
   "source": [
    "from langchain_ollama import OllamaLLM\n",
    "from langchain.prompts import ChatPromptTemplate\n",
    "from langchain_core.runnables import RunnableLambda\n",
    "from langchain_core.output_parsers import StrOutputParser\n",
    "from bs4 import BeautifulSoup\n",
    "import requests\n",
    "import re\n",
    "from langchain_core.runnables import RunnablePassthrough"
   ]
  },
  {
   "cell_type": "code",
   "execution_count": 175,
   "id": "e34a1a64-73c1-43e3-a7b6-d6cc2b0f45e8",
   "metadata": {},
   "outputs": [],
   "source": [
    "import requests\n",
    "from bs4 import BeautifulSoup\n",
    "\n",
    "class Website:\n",
    "    def __init__(self, url, *, extend_search=False):\n",
    "        self.url = url\n",
    "        self.text = \"\"\n",
    "        text, links = self._get_contents(url)\n",
    "        self.text = text\n",
    "        if links:\n",
    "            self.links = self._parse_links(links)\n",
    "\n",
    "        if extend_search:\n",
    "            for link in self.links:\n",
    "                text, _ = self._get_contents(link)\n",
    "                self.text += \"\".join(text)\n",
    "                print(\"Text from a link was added\")\n",
    "\n",
    "    @staticmethod\n",
    "    def _get_contents(link):\n",
    "        response = requests.get(link) # get response\n",
    "        body = response.content # get the content of the reponse\n",
    "        soup = BeautifulSoup(body, 'html.parser') # parse the content with html parser\n",
    "        \n",
    "        if soup.body:\n",
    "            for irr in soup.body(['script', 'style', 'img', 'input', 'iframe', 'button', 'nav', 'footer']):\n",
    "                irr.decompose()\n",
    "            text = \"\\n\".join(\n",
    "                [el.get_text(strip=True) for el in soup.find_all([\"p\", \"h1\", \"h2\", \"h3\", \"h4\", \"h5\", \"h6\"])\n",
    "            ])\n",
    "        else:\n",
    "            text = \"\"\n",
    "        links = [link.get('href') for link in soup.find_all('a')]\n",
    "        \n",
    "        return text, links\n",
    "\n",
    "    def _parse_links(self, links):\n",
    "        parsed_links = []\n",
    "        for link in links:\n",
    "            if link:\n",
    "                if link.startswith(\"https://\") or link.startswith(\"www\"):\n",
    "                    parsed_links.append(link)\n",
    "                elif not link.startswith(\"/\"):\n",
    "                    parsed_links.append(self.url+link)\n",
    "                else:\n",
    "                    parsed_links.append(self.url.rstrip('/')+link)\n",
    "        return parsed_links"
   ]
  },
  {
   "cell_type": "code",
   "execution_count": 176,
   "id": "b6b54249-5b74-41e1-8fe1-cbf7b837810a",
   "metadata": {},
   "outputs": [],
   "source": [
    "link_system_prompt = link_system_prompt = \"\"\"\n",
    "You are provided with a list of links on a webpage.\n",
    "You must decide which of these links would be the most relevant to include in a brochure about the company.\n",
    "Do not include Terms of Service, privacy, or email links.\n",
    "Respond in valid JSON format exactly as shown in the example below.\n",
    "Make sure that all keys and string values (including URLs) are enclosed in double quotes.\n",
    "\n",
    "Example:\n",
    "{{\n",
    "    \"links\": [\n",
    "        {{ \"type\": \"about page\", \"url\": \"https://full.url/goes/here/about\" }},\n",
    "        {{ \"type\": \"careers page\", \"url\": \"https://full.url/goes/here/careers\" }}\n",
    "    ]\n",
    "}}\n",
    "\"\"\"\n",
    "\n",
    "link_user_prompt = \"\"\"\n",
    "    Here is the list of links on the website:\n",
    "    {links}.\n",
    "    \n",
    "    Please decide which of these are relevant web links for a brochure about the company:\n",
    "\"\"\"\n",
    "\n",
    "def get_links(url):\n",
    "    website = Website(url)\n",
    "    return {\"links\": \"\\n\".join(website.links)}\n",
    "\n",
    "llm = OllamaLLM(model=\"mistral\")\n",
    "\n",
    "prompt = ChatPromptTemplate.from_messages(\n",
    "    [\n",
    "        (\"system\", link_system_prompt),\n",
    "        (\"human\", link_user_prompt)\n",
    "    ]\n",
    ")"
   ]
  },
  {
   "cell_type": "code",
   "execution_count": 177,
   "id": "0044d66c-0551-467a-8cac-35d81a72e4bd",
   "metadata": {},
   "outputs": [],
   "source": [
    "from langchain_core.output_parsers import JsonOutputParser\n",
    "\n",
    "chain = RunnableLambda(get_links) | prompt | llm | JsonOutputParser()\n",
    "rel_links = chain.invoke('https://www.langchain.com/')"
   ]
  },
  {
   "cell_type": "code",
   "execution_count": 178,
   "id": "fba9ebd1-a426-43b5-be22-b0794faf11b7",
   "metadata": {},
   "outputs": [],
   "source": [
    "def get_text_for_all_links(relevant_links):\n",
    "    text = \"\"\n",
    "    for link in relevant_links[\"links\"]:\n",
    "        text += f\"Page: {link['type']}\"\n",
    "        text += Website(link['url']).text\n",
    "    return text\n",
    "    \n",
    "text = get_text_for_all_links(rel_links)"
   ]
  },
  {
   "cell_type": "code",
   "execution_count": 179,
   "id": "fbdf021d-4771-4109-add0-5701960cb7e8",
   "metadata": {},
   "outputs": [],
   "source": [
    "make_brochure_system_template = \"\"\"\n",
    "You are an expert at analyzing the contents of several pages from a company website.\n",
    "Using the provided content, create a short, attractive brochure for the company.\n",
    "Include details that capture the company's essence solely based on the context provided.\n",
    "Return your response in Markdown format, using appropriate headings, bullet points, and emphasis.\\\n",
    "\n",
    "Context:\n",
    "\n",
    "{content}\n",
    "\"\"\"\n",
    "\n",
    "make_brochure_user_template = \"\"\"\n",
    "Create a short brochure for {company_name} company:\n",
    "\"\"\"\n",
    "\n",
    "final_prompt = ChatPromptTemplate.from_messages(\n",
    "    [\n",
    "        (\"system\", make_brochure_system_template),\n",
    "        (\"human\", make_brochure_user_template)\n",
    "    ]\n",
    ")"
   ]
  },
  {
   "cell_type": "code",
   "execution_count": 180,
   "id": "cf6306d4-43d4-4333-83c7-f6d3dbfe523d",
   "metadata": {},
   "outputs": [],
   "source": [
    "final_chain = final_prompt | llm | StrOutputParser()"
   ]
  },
  {
   "cell_type": "code",
   "execution_count": 181,
   "id": "91bc391a-adc1-484b-bac0-88f000d849e8",
   "metadata": {},
   "outputs": [],
   "source": [
    "brochure = final_chain.invoke({\"content\":text, \"company_name\": \"LangChain\"})"
   ]
  },
  {
   "cell_type": "code",
   "execution_count": 182,
   "id": "37013243-d520-4f4d-9d9e-6f08c0b890aa",
   "metadata": {},
   "outputs": [
    {
     "data": {
      "text/markdown": [
       " **LangChain Brochure**\n",
       "\n",
       "Welcome to LangChain - The Future of AI Applications!\n",
       "\n",
       "Transform the way you build and deploy AI applications with our suite of powerful tools, designed to help you innovate faster and deliver reliable, high-quality solutions.\n",
       "\n",
       "What makes us stand out?\n",
       "\n",
       "1. **LangChain**: Our flagship product provides a seamless, scalable platform for building intelligent agents that understand, learn, and adapt to complex tasks in real-time.\n",
       "\n",
       "2. **LangGraph**: The heart of our technology, LangGraph offers advanced features like human-in-the-loop, persistence/memory, and streaming, allowing you to create smarter, more contextually aware agents.\n",
       "\n",
       "3. **LangSmith**: Simplify the development, testing, and monitoring of your AI applications with LangSmith - an all-in-one toolkit that speeds up the iterative process for building high-performance AI models.\n",
       "\n",
       "4. **Interrupt: The AI Agent Conference by LangChain** - Join us this May as we gather the brightest minds in the AI industry to explore the future of AI agents and the role they will play in shaping our world.\n",
       "\n",
       "5. **Integrations**: We offer seamless integrations with popular testing frameworks like Pytest, Vitest/Jest, allowing you to focus on building your AI applications without worrying about the underlying infrastructure.\n",
       "\n",
       "Join the likes of LinkedIn, Uber, Replit, Elastic, and many more, who are already leveraging our technology for real-world production use cases.\n",
       "\n",
       "Ready to revolutionize your AI development? Start your journey with LangChain today!"
      ],
      "text/plain": [
       "<IPython.core.display.Markdown object>"
      ]
     },
     "metadata": {},
     "output_type": "display_data"
    }
   ],
   "source": [
    "from IPython.display import Markdown, display\n",
    "display(Markdown(brochure))"
   ]
  }
 ],
 "metadata": {
  "kernelspec": {
   "display_name": "Python (nlpenv)",
   "language": "python",
   "name": "nlpenv"
  },
  "language_info": {
   "codemirror_mode": {
    "name": "ipython",
    "version": 3
   },
   "file_extension": ".py",
   "mimetype": "text/x-python",
   "name": "python",
   "nbconvert_exporter": "python",
   "pygments_lexer": "ipython3",
   "version": "3.12.5"
  }
 },
 "nbformat": 4,
 "nbformat_minor": 5
}
